{
 "cells": [
  {
   "cell_type": "code",
   "execution_count": 85,
   "metadata": {},
   "outputs": [],
   "source": [
    "# import pandas as pd\n",
    "# file_name='WIKI_PRICES_212b326a081eacca455e13140d7bb9db.csv'\n",
    "# us_stocks=pd.read_csv(file_name, parse_dates=['date']).set_index(['date'])\n",
    "us_stocks=us_stocks.loc['2000-1-1':].reset_index().set_index(['date', 'ticker'])\n",
    "us_stocks.drop(columns=list(us_stocks.filter(regex='^(?!adj_)')), inplace=True)\n",
    "us_stocks.columns=[i.replace('adj_','') for i in list(us_stocks)]\n",
    "us_stocks"
   ]
  },
  {
   "cell_type": "code",
   "execution_count": 101,
   "metadata": {},
   "outputs": [],
   "source": [
    "us_stocks.to_csv('us_stocks.csv')"
   ]
  }
 ],
 "metadata": {
  "kernelspec": {
   "display_name": "Python 3",
   "language": "python",
   "name": "python3"
  },
  "language_info": {
   "codemirror_mode": {
    "name": "ipython",
    "version": 3
   },
   "file_extension": ".py",
   "mimetype": "text/x-python",
   "name": "python",
   "nbconvert_exporter": "python",
   "pygments_lexer": "ipython3",
   "version": "3.5.6"
  }
 },
 "nbformat": 4,
 "nbformat_minor": 4
}
