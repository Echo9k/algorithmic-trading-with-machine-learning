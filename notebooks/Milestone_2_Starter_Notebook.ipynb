{
  "nbformat": 4,
  "nbformat_minor": 0,
  "metadata": {
    "kernelspec": {
      "display_name": "Python 3",
      "language": "python",
      "name": "python3"
    },
    "language_info": {
      "codemirror_mode": {
        "name": "ipython",
        "version": 3
      },
      "file_extension": ".py",
      "mimetype": "text/x-python",
      "name": "python",
      "nbconvert_exporter": "python",
      "pygments_lexer": "ipython3",
      "version": "3.5.6"
    },
    "toc": {
      "base_numbering": 1,
      "nav_menu": {},
      "number_sections": true,
      "sideBar": true,
      "skip_h1_title": true,
      "title_cell": "Table of Contents",
      "title_sidebar": "Contents",
      "toc_cell": false,
      "toc_position": {
        "height": "calc(100% - 180px)",
        "left": "10px",
        "top": "150px",
        "width": "512px"
      },
      "toc_section_display": true,
      "toc_window_display": true
    },
    "colab": {
      "name": "Milestone 2_Starter Notebook.ipynb",
      "provenance": [],
      "collapsed_sections": [
        "lyO0Su_VkHsi",
        "-lNVphTAkHsk",
        "8eMCx6VrkHsn",
        "C_LAApD1WIDR",
        "b38nscJhkHso",
        "WHb95DwckHso",
        "PzPMiqJIkHsp",
        "EohxfpE_kHsq",
        "f7WMF-w9kHsr",
        "Jt_FDpVekHsr",
        "gdyUtYFdkHss",
        "_wIB65szkHst",
        "35NfQTFpkHst",
        "WtAESniQkHsu",
        "s9QhjqBhkHsu",
        "G7A3mCQ1kHsv",
        "a-sFW83fkHsw",
        "aQWUETJVkHsw",
        "lQ8-iSGzkHsx",
        "lJZvwXzEkHsx",
        "8itqbzb9kHsy",
        "I5gZxMAfkHsy",
        "m8rhN7QukHsz",
        "S90TJ9RokHsz",
        "uYJxj5dQqDXb"
      ],
      "include_colab_link": true
    }
  },
  "cells": [
    {
      "cell_type": "markdown",
      "metadata": {
        "id": "view-in-github",
        "colab_type": "text"
      },
      "source": [
        "<a href=\"https://colab.research.google.com/github/Echo9k/ml-trading-strategy/blob/main/notebooks/Milestone_2_Starter_Notebook.ipynb\" target=\"_parent\"><img src=\"https://colab.research.google.com/assets/colab-badge.svg\" alt=\"Open In Colab\"/></a>"
      ]
    },
    {
      "cell_type": "markdown",
      "metadata": {
        "id": "sS4kROrBkHsd"
      },
      "source": [
        "# Engineering Predictive Alpha Factors"
      ]
    },
    {
      "cell_type": "code",
      "metadata": {
        "colab": {
          "base_uri": "https://localhost:8080/"
        },
        "id": "eXdv-SBykQvI",
        "outputId": "a8fd2aaa-e89c-4fa7-eb54-80f61e1e5bbd"
      },
      "source": [
        "from google.colab import drive\n",
        "drive.mount('/gdrive')\n",
        "%cd '/gdrive/My Drive/data'"
      ],
      "execution_count": 1,
      "outputs": [
        {
          "output_type": "stream",
          "text": [
            "Drive already mounted at /gdrive; to attempt to forcibly remount, call drive.mount(\"/gdrive\", force_remount=True).\n",
            "/gdrive/My Drive/data\n"
          ],
          "name": "stdout"
        }
      ]
    },
    {
      "cell_type": "markdown",
      "metadata": {
        "id": "L3UDDjLikHse"
      },
      "source": [
        "This notebook illustrates the following steps:\n",
        "\n",
        "1. Select the adjusted open, high, low, and close prices as well as the volume for all tickers from the Quandl Wiki data that you downloaded and simplified for the last milestone for the 2007-2016 time period. Looking ahead, we will use 2014-2016 as our 'out-of-sample' period to test the performance of a strategy based on a machine learning model selected using data from preceding periods.\n",
        "2. Compute the dollar volume as the product of closing price and trading volume; then select the stocks with at least eight years of data and the lowest average daily rank for this metric. \n",
        "3. Compute daily returns and keep only 'inliers' with values between -100% and + 100% as a basic check against data error.\n",
        "4. Now we're ready to compute financial features. The Alpha Factory Library listed among the resources below illustrates how to compute a broad range of those using pandas and TA-Lib. We will list a few examples; feel free to explore and evaluate the various TA-Lib indicators.\n",
        "    - Compute **historical returns** for various time ranges such as 1, 3, 5, 10, 21 trading days, as well as longer periods like 2, 3, 6 and 12 months.\n",
        "    - Use TA-Lib's **Bollinger Band** indicator to create features that anticipate **mean-reversion**.\n",
        "    - Select some indicators from TA-Lib's **momentum** indicators family such as\n",
        "        - the Average Directional Movement Index (ADX), \n",
        "        - the Moving Average Convergence Divergence (MACD), \n",
        "        - the Relative Strength Index (RSI), \n",
        "        - the Balance of Power (BOP) indictor, or \n",
        "        - the Money Flow Index (MFI).\n",
        "    - Compute TA-Lib **volume** indicators like On Balance Volume (OBV) or the Chaikin A/D Oscillator (ADOSC)\n",
        "    - Create volatility metrics such as the Normalized Average True Range (NATR).\n",
        "    - Compute rolling factor betas using the five Fama-French risk factors for different rolling windows of three and 12 months (see resources below).\n",
        "    - Compute the outcome variable that we will aim to predict, namely the 1-day forward returns."
      ]
    },
    {
      "cell_type": "markdown",
      "metadata": {
        "id": "PqrOPpE8kHsf"
      },
      "source": [
        "## Usage tips\n",
        "\n",
        "- If you experience resource constraints (suddenly restarting Kernel), increase the memory available for Docker Desktop (> Settings > Advanced). If this not possible or you experienced prolonged execution times, reduce the scope of the exercise. The easiest way to do so is to select fewer stocks or a shorter time period, or both.\n",
        "- You may want to persist intermediate results so you can recover quickly in case something goes wrong. There's an example under the first 'Persist Results' subsection."
      ]
    },
    {
      "cell_type": "markdown",
      "metadata": {
        "id": "ByRLJre4kHsg"
      },
      "source": [
        "## Imports & Settings"
      ]
    },
    {
      "cell_type": "code",
      "metadata": {
        "id": "q7UBiNcLlQdX",
        "cellView": "form"
      },
      "source": [
        "#@markdown Install missing libraries\n",
        "url = 'https://launchpad.net/~mario-mariomedina/+archive/ubuntu/talib/+files'\n",
        "!wget $url/libta-lib0_0.4.0-oneiric1_amd64.deb -qO libta.deb\n",
        "!wget $url/ta-lib0-dev_0.4.0-oneiric1_amd64.deb -qO ta.deb\n",
        "!dpkg -i libta.deb ta.deb\n",
        "!pip install -q ta-lib\n",
        "import talib"
      ],
      "execution_count": null,
      "outputs": []
    },
    {
      "cell_type": "code",
      "metadata": {
        "ExecuteTime": {
          "end_time": "2020-07-14T13:15:13.439296Z",
          "start_time": "2020-07-14T13:15:13.437658Z"
        },
        "id": "Eb2hlOlQkHsg"
      },
      "source": [
        "import warnings\n",
        "warnings.filterwarnings('ignore')"
      ],
      "execution_count": 2,
      "outputs": []
    },
    {
      "cell_type": "code",
      "metadata": {
        "ExecuteTime": {
          "end_time": "2020-07-14T13:15:14.100318Z",
          "start_time": "2020-07-14T13:15:13.442824Z"
        },
        "id": "3L_aq8mukHsg"
      },
      "source": [
        "%matplotlib inline\n",
        "\n",
        "from pathlib import Path\n",
        "from scipy import stats #\n",
        "import numpy as np\n",
        "import pandas as pd\n",
        "import pandas_datareader.data as web\n",
        "\n",
        "import statsmodels.api as sm\n",
        "# from statsmodels.regression.rolling import RollingOLS\n",
        "from sklearn.preprocessing import scale\n",
        "from talib import MA_Type\n",
        "import talib\n",
        "from fastprogress.fastprogress import progress_bar\n",
        "\n",
        "\n",
        "import matplotlib.pyplot as plt\n",
        "import seaborn as sns\n",
        "import pprint\n",
        "\n",
        "from IPython.display import display"
      ],
      "execution_count": 3,
      "outputs": []
    },
    {
      "cell_type": "code",
      "metadata": {
        "ExecuteTime": {
          "end_time": "2020-07-14T13:15:14.104107Z",
          "start_time": "2020-07-14T13:15:14.101491Z"
        },
        "id": "tYuihlmfkHsh"
      },
      "source": [
        "sns.set_style('whitegrid')\n",
        "idx = pd.IndexSlice\n",
        "deciles = np.arange(.1, 1, .1).round(1)"
      ],
      "execution_count": 4,
      "outputs": []
    },
    {
      "cell_type": "markdown",
      "metadata": {
        "id": "C4Vq_bcQkHsh"
      },
      "source": [
        "## Load Data"
      ]
    },
    {
      "cell_type": "code",
      "metadata": {
        "ExecuteTime": {
          "end_time": "2020-07-14T13:15:14.120940Z",
          "start_time": "2020-07-14T13:15:14.105281Z"
        },
        "id": "KZq4rySmkHsh"
      },
      "source": [
        "# DATA_STORE = Path('..', 'data', 'stock_prices.h5')\n",
        "DATA_STORE = './stock_metrics.h5'"
      ],
      "execution_count": 8,
      "outputs": []
    },
    {
      "cell_type": "code",
      "metadata": {
        "ExecuteTime": {
          "end_time": "2021-02-06T01:59:37.856956Z",
          "start_time": "2021-02-06T01:59:37.799466Z"
        },
        "id": "CvCl_OgskHsh"
      },
      "source": [
        "with pd.HDFStore(DATA_STORE) as store:\n",
        "    data = pd.concat([store.get('/data/training'), \n",
        "                     store.get('/data/testing')])\n",
        "    validation = store.get('/data/validation')"
      ],
      "execution_count": 6,
      "outputs": []
    },
    {
      "cell_type": "markdown",
      "metadata": {
        "id": "lyO0Su_VkHsi"
      },
      "source": [
        "## Select 500 most-traded stocks prior to 2017\n"
      ]
    },
    {
      "cell_type": "code",
      "metadata": {
        "id": "wl02-0ihkHsi"
      },
      "source": [
        "#@markdown Compute the dollar volume as the product of the adjusted close price and the adjusted volume:\n",
        "data=data.assign(dollar_volume=data.close*data.volume)  # calculates dollar volume"
      ],
      "execution_count": 7,
      "outputs": []
    },
    {
      "cell_type": "code",
      "metadata": {
        "id": "s3QIw27SkHsi",
        "colab": {
          "base_uri": "https://localhost:8080/",
          "height": 228
        },
        "outputId": "8289b5f5-200b-445a-e198-2c8da3872fdb"
      },
      "source": [
        "#@markdown Keeps the most traded stocks\n",
        "keep_top_ = 500 #@param {type:\"number\"}\n",
        "most_traded_ticker = data.groupby('ticker')['dollar_volume'].sum().nlargest(keep_top_)  # Get the 500 most traded tickers\n",
        "most_traded_data = data[np.in1d(data.index.get_level_values(1), most_traded_ticker.index)]  # filter data by the names above\n",
        "most_traded_data.sample(5)  # Example"
      ],
      "execution_count": 8,
      "outputs": [
        {
          "output_type": "execute_result",
          "data": {
            "text/html": [
              "<div>\n",
              "<style scoped>\n",
              "    .dataframe tbody tr th:only-of-type {\n",
              "        vertical-align: middle;\n",
              "    }\n",
              "\n",
              "    .dataframe tbody tr th {\n",
              "        vertical-align: top;\n",
              "    }\n",
              "\n",
              "    .dataframe thead th {\n",
              "        text-align: right;\n",
              "    }\n",
              "</style>\n",
              "<table border=\"1\" class=\"dataframe\">\n",
              "  <thead>\n",
              "    <tr style=\"text-align: right;\">\n",
              "      <th></th>\n",
              "      <th></th>\n",
              "      <th>open</th>\n",
              "      <th>high</th>\n",
              "      <th>low</th>\n",
              "      <th>close</th>\n",
              "      <th>volume</th>\n",
              "      <th>dollar_volume</th>\n",
              "    </tr>\n",
              "    <tr>\n",
              "      <th>date</th>\n",
              "      <th>ticker</th>\n",
              "      <th></th>\n",
              "      <th></th>\n",
              "      <th></th>\n",
              "      <th></th>\n",
              "      <th></th>\n",
              "      <th></th>\n",
              "    </tr>\n",
              "  </thead>\n",
              "  <tbody>\n",
              "    <tr>\n",
              "      <th>2006-02-13</th>\n",
              "      <th>NFLX</th>\n",
              "      <td>3.637143</td>\n",
              "      <td>3.638571</td>\n",
              "      <td>3.571429</td>\n",
              "      <td>3.604286</td>\n",
              "      <td>7714700.0</td>\n",
              "      <td>2.780598e+07</td>\n",
              "    </tr>\n",
              "    <tr>\n",
              "      <th>2006-02-27</th>\n",
              "      <th>SHLD</th>\n",
              "      <td>76.677616</td>\n",
              "      <td>78.921902</td>\n",
              "      <td>76.677616</td>\n",
              "      <td>78.582053</td>\n",
              "      <td>1145000.0</td>\n",
              "      <td>8.997645e+07</td>\n",
              "    </tr>\n",
              "    <tr>\n",
              "      <th>2010-11-09</th>\n",
              "      <th>BRCD</th>\n",
              "      <td>5.713926</td>\n",
              "      <td>5.798646</td>\n",
              "      <td>5.619792</td>\n",
              "      <td>5.648032</td>\n",
              "      <td>12915800.0</td>\n",
              "      <td>7.294885e+07</td>\n",
              "    </tr>\n",
              "    <tr>\n",
              "      <th>2006-10-05</th>\n",
              "      <th>MGM</th>\n",
              "      <td>41.286296</td>\n",
              "      <td>42.166622</td>\n",
              "      <td>41.226948</td>\n",
              "      <td>42.018252</td>\n",
              "      <td>1385300.0</td>\n",
              "      <td>5.820788e+07</td>\n",
              "    </tr>\n",
              "    <tr>\n",
              "      <th>2014-12-05</th>\n",
              "      <th>AVGO</th>\n",
              "      <td>99.413263</td>\n",
              "      <td>100.523812</td>\n",
              "      <td>97.393213</td>\n",
              "      <td>99.556869</td>\n",
              "      <td>2959623.0</td>\n",
              "      <td>2.946508e+08</td>\n",
              "    </tr>\n",
              "  </tbody>\n",
              "</table>\n",
              "</div>"
            ],
            "text/plain": [
              "                        open        high  ...      volume  dollar_volume\n",
              "date       ticker                         ...                           \n",
              "2006-02-13 NFLX     3.637143    3.638571  ...   7714700.0   2.780598e+07\n",
              "2006-02-27 SHLD    76.677616   78.921902  ...   1145000.0   8.997645e+07\n",
              "2010-11-09 BRCD     5.713926    5.798646  ...  12915800.0   7.294885e+07\n",
              "2006-10-05 MGM     41.286296   42.166622  ...   1385300.0   5.820788e+07\n",
              "2014-12-05 AVGO    99.413263  100.523812  ...   2959623.0   2.946508e+08\n",
              "\n",
              "[5 rows x 6 columns]"
            ]
          },
          "metadata": {
            "tags": []
          },
          "execution_count": 8
        }
      ]
    },
    {
      "cell_type": "markdown",
      "metadata": {
        "id": "aKK4wse0kHsj"
      },
      "source": [
        "Filter out data without at least 8 years of history and no gaps."
      ]
    },
    {
      "cell_type": "code",
      "metadata": {
        "id": "FKzl3MbLkHsj"
      },
      "source": [
        "ticks_year_df = pd.DataFrame([[i.year,j] for i,j in zip(data.index.get_level_values(0),data.index.get_level_values(1))])  # Gets stock ticks and year\n",
        "ticks_conditions = pd.DataFrame([ticks_year_df.groupby(1).max()[0]==2016,\n",
        "                            ticks_year_df.groupby(1).nunique()[0]>7],\n",
        "                            ['enough_data', 'until_2016'])\n",
        "valid_ticks = ticks_conditions.all()\n",
        "invalid_ticks = valid_ticks.apply(lambda x: not x)\n",
        "invalid_ticks[True==invalid_ticks.values].index\n",
        "data.drop(invalid_ticks[invalid_ticks.values==True].index\n",
        "          , level=1\n",
        "          , inplace=True\n",
        "          )  # Drop the invalid ticks"
      ],
      "execution_count": 9,
      "outputs": []
    },
    {
      "cell_type": "markdown",
      "metadata": {
        "id": "-lNVphTAkHsk"
      },
      "source": [
        "## Remove outliers"
      ]
    },
    {
      "cell_type": "markdown",
      "metadata": {
        "id": "u4Tug6jLkHsj"
      },
      "source": [
        "### From daily returns\n",
        "Remove outliners from daily returns"
      ]
    },
    {
      "cell_type": "code",
      "metadata": {
        "id": "emSBt4ErkHsl",
        "cellView": "form"
      },
      "source": [
        "#@title Outliners by daily returns\n",
        "#@markdown Remove outliners based on their daily returns<br>\n",
        "#@markdown _inverts the indexes_\n",
        "def drop_daily_outliners(data):\n",
        "    \"\"\"Switches the order of the multi index to (tick, date)\"\"\"\n",
        "    g = data['close'].pct_change(periods=1).groupby(['ticker'])\n",
        "    too_high=pd.Series(g.max()>1).values\n",
        "    too_small=pd.Series(g.min()<-1).values\n",
        "    is_outliner = too_high * too_small  # is outliner? if too small or to high (boolean)\n",
        "    indexes=g.max().index\n",
        "    outliners = [k for k,v in zip(indexes, too_high) if v]\n",
        "    inliners=set(indexes)-set(outliners)\n",
        "    data = data.reset_index(level=0)\n",
        "    return data.drop(outliners).set_index('date', append=True)\n",
        "\n",
        "data = drop_daily_outliners(data)"
      ],
      "execution_count": null,
      "outputs": []
    },
    {
      "cell_type": "code",
      "metadata": {
        "id": "kT2g5P0JkHsk",
        "colab": {
          "base_uri": "https://localhost:8080/",
          "height": 494
        },
        "cellView": "form",
        "outputId": "2fa6f249-33c1-4203-d95c-fa97af0e5f8b"
      },
      "source": [
        "#@title zscores\n",
        "#@markdown Calculates the z-scores\n",
        "daily_returns = most_traded_data.close - most_traded_data.open\n",
        "daily_returns_by_ticker=daily_returns.groupby('ticker').sum()\n",
        "zscores = np.abs(stats.zscore(daily_returns_by_ticker))\n",
        "\n",
        "z_values=pd.DataFrame(zscores, daily_returns_by_ticker.index, columns=['z'])\n",
        "display(z_values.nlargest(5, columns='z'))\n",
        "\n",
        "sns.distplot(zscores, rug=True, hist=False)"
      ],
      "execution_count": 16,
      "outputs": [
        {
          "output_type": "display_data",
          "data": {
            "text/html": [
              "<div>\n",
              "<style scoped>\n",
              "    .dataframe tbody tr th:only-of-type {\n",
              "        vertical-align: middle;\n",
              "    }\n",
              "\n",
              "    .dataframe tbody tr th {\n",
              "        vertical-align: top;\n",
              "    }\n",
              "\n",
              "    .dataframe thead th {\n",
              "        text-align: right;\n",
              "    }\n",
              "</style>\n",
              "<table border=\"1\" class=\"dataframe\">\n",
              "  <thead>\n",
              "    <tr style=\"text-align: right;\">\n",
              "      <th></th>\n",
              "      <th>z</th>\n",
              "    </tr>\n",
              "    <tr>\n",
              "      <th>ticker</th>\n",
              "      <th></th>\n",
              "    </tr>\n",
              "  </thead>\n",
              "  <tbody>\n",
              "    <tr>\n",
              "      <th>BRK_A</th>\n",
              "      <td>22.259818</td>\n",
              "    </tr>\n",
              "    <tr>\n",
              "      <th>BTU</th>\n",
              "      <td>1.262600</td>\n",
              "    </tr>\n",
              "    <tr>\n",
              "      <th>ACI</th>\n",
              "      <td>0.620307</td>\n",
              "    </tr>\n",
              "    <tr>\n",
              "      <th>AIG</th>\n",
              "      <td>0.618700</td>\n",
              "    </tr>\n",
              "    <tr>\n",
              "      <th>C</th>\n",
              "      <td>0.480941</td>\n",
              "    </tr>\n",
              "  </tbody>\n",
              "</table>\n",
              "</div>"
            ],
            "text/plain": [
              "                z\n",
              "ticker           \n",
              "BRK_A   22.259818\n",
              "BTU      1.262600\n",
              "ACI      0.620307\n",
              "AIG      0.618700\n",
              "C        0.480941"
            ]
          },
          "metadata": {
            "tags": []
          }
        },
        {
          "output_type": "execute_result",
          "data": {
            "text/plain": [
              "<matplotlib.axes._subplots.AxesSubplot at 0x7f6b9e78a910>"
            ]
          },
          "metadata": {
            "tags": []
          },
          "execution_count": 16
        },
        {
          "output_type": "display_data",
          "data": {
            "image/png": "[encoded data removed]",
            "text/plain": [
              "<Figure size 432x288 with 1 Axes>"
            ]
          },
          "metadata": {
            "tags": []
          }
        }
      ]
    },
    {
      "cell_type": "code",
      "metadata": {
        "id": "6yd5OZm2kHsl",
        "colab": {
          "base_uri": "https://localhost:8080/",
          "height": 337
        },
        "cellView": "form",
        "outputId": "8dd71ee7-cc45-4c31-eb0f-67c68d142489"
      },
      "source": [
        "#@markdown How would it look with out the top_k outliners based on their zscore\n",
        "top_k = 30 #@param{type:'number'}\n",
        "\n",
        "no_outliners=z_values.nsmallest(z_values.shape[0] - top_k, columns='z')\n",
        "display(pd.concat([no_outliners.kurtosis(), no_outliners.skew()]))\n",
        "sns.distplot(no_outliners, rug=True, hist=False, fit=stats.norm)"
      ],
      "execution_count": 17,
      "outputs": [
        {
          "output_type": "display_data",
          "data": {
            "text/plain": [
              "z    0.027094\n",
              "z    0.678204\n",
              "dtype: float64"
            ]
          },
          "metadata": {
            "tags": []
          }
        },
        {
          "output_type": "execute_result",
          "data": {
            "text/plain": [
              "<matplotlib.axes._subplots.AxesSubplot at 0x7f6b9e765550>"
            ]
          },
          "metadata": {
            "tags": []
          },
          "execution_count": 17
        },
        {
          "output_type": "display_data",
          "data": {
            "image/png": "[encoded data removed]",
            "text/plain": [
              "<Figure size 432x288 with 1 Axes>"
            ]
          },
          "metadata": {
            "tags": []
          }
        }
      ]
    },
    {
      "cell_type": "code",
      "metadata": {
        "id": "ybLcfUUAkHsl",
        "colab": {
          "base_uri": "https://localhost:8080/",
          "height": 246
        },
        "cellView": "form",
        "outputId": "ed968c9a-8e72-4200-e716-8e0ca073e578"
      },
      "source": [
        "#@markdown Remove outliners based on their zscore\n",
        "large_ticks=z_values.nlargest(top_k, columns='z').index\n",
        "data.drop(large_ticks, level=0, inplace=True)  # Drop the outliner ticks\n",
        "display(data.shape)\n"
      ],
      "execution_count": 19,
      "outputs": [
        {
          "output_type": "display_data",
          "data": {
            "text/plain": [
              "(4042516, 6)"
            ]
          },
          "metadata": {
            "tags": []
          }
        },
        {
          "output_type": "execute_result",
          "data": {
            "text/html": [
              "<div>\n",
              "<style scoped>\n",
              "    .dataframe tbody tr th:only-of-type {\n",
              "        vertical-align: middle;\n",
              "    }\n",
              "\n",
              "    .dataframe tbody tr th {\n",
              "        vertical-align: top;\n",
              "    }\n",
              "\n",
              "    .dataframe thead th {\n",
              "        text-align: right;\n",
              "    }\n",
              "</style>\n",
              "<table border=\"1\" class=\"dataframe\">\n",
              "  <thead>\n",
              "    <tr style=\"text-align: right;\">\n",
              "      <th></th>\n",
              "      <th></th>\n",
              "      <th>open</th>\n",
              "      <th>high</th>\n",
              "      <th>low</th>\n",
              "      <th>close</th>\n",
              "      <th>volume</th>\n",
              "      <th>dollar_volume</th>\n",
              "    </tr>\n",
              "    <tr>\n",
              "      <th>ticker</th>\n",
              "      <th>date</th>\n",
              "      <th></th>\n",
              "      <th></th>\n",
              "      <th></th>\n",
              "      <th></th>\n",
              "      <th></th>\n",
              "      <th></th>\n",
              "    </tr>\n",
              "  </thead>\n",
              "  <tbody>\n",
              "    <tr>\n",
              "      <th>CRAY</th>\n",
              "      <th>2016-07-05</th>\n",
              "      <td>30.140000</td>\n",
              "      <td>30.140000</td>\n",
              "      <td>29.450000</td>\n",
              "      <td>29.750000</td>\n",
              "      <td>199120.0</td>\n",
              "      <td>5.923820e+06</td>\n",
              "    </tr>\n",
              "    <tr>\n",
              "      <th>ULTR</th>\n",
              "      <th>2009-12-31</th>\n",
              "      <td>4.920000</td>\n",
              "      <td>4.920000</td>\n",
              "      <td>4.760000</td>\n",
              "      <td>4.760000</td>\n",
              "      <td>84100.0</td>\n",
              "      <td>4.003160e+05</td>\n",
              "    </tr>\n",
              "    <tr>\n",
              "      <th>HZO</th>\n",
              "      <th>2016-06-10</th>\n",
              "      <td>16.450000</td>\n",
              "      <td>16.720000</td>\n",
              "      <td>16.350100</td>\n",
              "      <td>16.530000</td>\n",
              "      <td>195682.0</td>\n",
              "      <td>3.234623e+06</td>\n",
              "    </tr>\n",
              "    <tr>\n",
              "      <th>YHOO</th>\n",
              "      <th>2007-09-13</th>\n",
              "      <td>23.600000</td>\n",
              "      <td>23.960000</td>\n",
              "      <td>23.600000</td>\n",
              "      <td>23.720000</td>\n",
              "      <td>10309000.0</td>\n",
              "      <td>2.445295e+08</td>\n",
              "    </tr>\n",
              "    <tr>\n",
              "      <th>BPFH</th>\n",
              "      <th>2013-12-27</th>\n",
              "      <td>11.080827</td>\n",
              "      <td>11.107485</td>\n",
              "      <td>10.823133</td>\n",
              "      <td>11.071941</td>\n",
              "      <td>215100.0</td>\n",
              "      <td>2.381574e+06</td>\n",
              "    </tr>\n",
              "  </tbody>\n",
              "</table>\n",
              "</div>"
            ],
            "text/plain": [
              "                        open       high  ...      volume  dollar_volume\n",
              "ticker date                              ...                           \n",
              "CRAY   2016-07-05  30.140000  30.140000  ...    199120.0   5.923820e+06\n",
              "ULTR   2009-12-31   4.920000   4.920000  ...     84100.0   4.003160e+05\n",
              "HZO    2016-06-10  16.450000  16.720000  ...    195682.0   3.234623e+06\n",
              "YHOO   2007-09-13  23.600000  23.960000  ...  10309000.0   2.445295e+08\n",
              "BPFH   2013-12-27  11.080827  11.107485  ...    215100.0   2.381574e+06\n",
              "\n",
              "[5 rows x 6 columns]"
            ]
          },
          "metadata": {
            "tags": []
          },
          "execution_count": 19
        }
      ]
    },
    {
      "cell_type": "markdown",
      "metadata": {
        "id": "BGCjwbAFXuxK"
      },
      "source": [
        "## Compute Returns\n",
        "- Daily\n",
        "- Weekly\n",
        "- Monthly\n",
        "- Yearly"
      ]
    },
    {
      "cell_type": "code",
      "metadata": {
        "cellView": "form",
        "id": "LVDYpEdy-JU3"
      },
      "source": [
        "#@title Class Compute\n",
        "#@markdown class Compute > Returns\n",
        "class Compute:\n",
        "    def __init__(self, data):\n",
        "        self.data = data\n",
        "\n",
        "    def timeline_column(self, company_name, column='close'):\n",
        "        company_indexes=self.data.index.get_level_values(0)\n",
        "        keep_idx=self.data.index.get_level_values(0)==company_name\n",
        "        values = self.data[keep_idx][column].droplevel(0,0)\n",
        "        return company_indexes[keep_idx], values\n",
        "        \n",
        "    def set_company_data(self, company_name):\n",
        "        company_indexes=data.index.get_level_values(0)\n",
        "        keep_idx=data.index.get_level_values(0)==company_name\n",
        "        self.company_data = data[keep_idx]\n",
        "        \n",
        "\n",
        "class Returns(Compute):\n",
        "    def __init__(self, data):\n",
        "        super().__init__(data)\n",
        "\n",
        "    def monthly(self, company_name):\n",
        "        company_idx, close = self.timeline_column(company_name)\n",
        "        \n",
        "        returns=pd.DataFrame({\n",
        "        'returns_M1':close.pct_change(1, freq = 'M'),\n",
        "        'returns_M2':close.pct_change(2, freq = 'M'),\n",
        "        'returns_M3':close.pct_change(3, freq = 'M'),\n",
        "        'returns_M6':close.pct_change(6, freq = 'M'),\n",
        "        'returns_Y1':close.pct_change(1, freq = 'Y')\n",
        "        }).set_index(company_idx, append=True)\n",
        "        return returns.swaplevel()\n",
        "\n",
        "    def weekly(self, company_name):\n",
        "        company_idx, close = self.timeline_column(company_name)\n",
        "\n",
        "        returns=pd.DataFrame(\n",
        "            {'returns_W1':close.pct_change(1, freq = 'W'),\n",
        "            'returns_W3':close.pct_change(2, freq = 'W'),\n",
        "            'returns_W5':close.pct_change(3, freq = 'W')}\n",
        "        ).set_index(company_idx, append=True)\n",
        "        return returns.swaplevel()\n",
        "\n",
        "    def daily(self, company_name):\n",
        "        company_idx, close = self.timeline_column(company_name)\n",
        "\n",
        "        returns=pd.DataFrame(\n",
        "            {'returns_D1':close.pct_change(periods=1),\n",
        "            'returns_D3':close.pct_change(periods=3),\n",
        "            'returns_D5':close.pct_change(periods=5),\n",
        "            'returns_D10':close.pct_change(periods=10),\n",
        "            'returns_D21':close.pct_change(periods=21)}\n",
        "        ).set_index(company_idx, append=True)\n",
        "        return returns.swaplevel()\n",
        "\n",
        "    def all_returns(self, company_name):\n",
        "        return pd.concat([self.daily(company_name),\n",
        "                          self.weekly(company_name),\n",
        "                          self.monthly(company_name)])"
      ],
      "execution_count": 32,
      "outputs": []
    },
    {
      "cell_type": "markdown",
      "metadata": {
        "id": "LX_M11t9fDPk"
      },
      "source": [
        "#  Calculate metrics"
      ]
    },
    {
      "cell_type": "code",
      "metadata": {
        "cellView": "form",
        "id": "yb7skWbEzU2k"
      },
      "source": [
        "#@title class Metrics\n",
        "class Metrics(Compute):\n",
        "    \"\"\"\n",
        "    Calulates several metrics for a dataset with multiple indexes.\n",
        "    \"\"\"\n",
        "    def __init__(self, data):\n",
        "        super().__init__(data)\n",
        "\n",
        "    def momentum_indicators(self):\n",
        "        if company_name is not None:\n",
        "            self.set_company_data(company_name)\n",
        "        # Bollinger Bands\n",
        "        self.company_data['SMA'] = talib.SMA(self.company_data.close.values)\n",
        "        self.company_data['bb_upper'], self.company_data['bb_middle'], self.company_data['bb_lower'] = talib.BBANDS(self.company_data.close.values, matype=MA_Type.T3)\n",
        "        self.company_data['momentum'] = talib.MOM(self.company_data.close.values, timeperiod=14)\n",
        "        #Average Directional Movement Index (ADX)\n",
        "        self.company_data['ADX'] = talib.ADX(self.company_data.high.values, self.company_data.low.values, self.company_data.close.values, timeperiod=14)\n",
        "        # Absolute Price Oscillator (APO)\n",
        "        self.company_data['APO'] = talib.APO(self.company_data.close.values)\n",
        "        # Percentage Price Oscillator (PPO)\n",
        "        self.company_data['PPO'] = talib.PPO(self.company_data.close.values)\n",
        "        # Aroon Oscillator\n",
        "        self.company_data['AROONOSC'] = talib.AROONOSC(self.company_data.high.values, self.company_data.low.values)\n",
        "        # Balance of Power (BOP) indicator\n",
        "        self.company_data['BOP'] = talib.BOP(self.company_data.open.values, self.company_data.high.values, self.company_data.low.values, self.company_data.close.values)\n",
        "        # Commodity Channel Index (CCI)\n",
        "        self.company_data['CCI'] = talib.CCI(self.company_data.high.values, self.company_data.low.values, self.company_data.close.values)\n",
        "        # Moving Average Convergence Divergence (MACD),\n",
        "        self.company_data.macd_fast, self.company_data.macd_slow, self.company_data.signal_period = talib.MACD(self.company_data.close.values)\n",
        "        # Chande Momentum Oscillator (CMO)\n",
        "        self.company_data['CMO'] = talib.CMO(self.company_data.close.values)\n",
        "        # Flow Index (MFI)\n",
        "        self.company_data['MFI'] = talib.MFI(self.company_data.high.values, self.company_data.low.values, self.company_data.close.values, self.company_data.volume.values, timeperiod=14)\n",
        "        # Relative Strength Index (RSI)\n",
        "        self.company_data['RSI'] = talib.RSI(self.company_data.close.values, timeperiod=14)\n",
        "        #Stochastic RSI (STOCHRSI)\n",
        "        self.company_data.fastk, self.company_data.fastd = talib.STOCHRSI(self.company_data.close.values)\n",
        "        #Stochastic (STOCH)\n",
        "        self.company_data.slowk, self.company_data.slowd = talib.STOCH(self.company_data.high.values, self.company_data.low.values, self.company_data.close.values)\n",
        "        #Ultimate Oscillator (ULTOSC)\n",
        "        self.company_data['ULTOSC'] = talib.ULTOSC(self.company_data.high.values, self.company_data.low.values, self.company_data.close.values)\n",
        "        #Williams' %R (WILLR)\n",
        "        self.company_data['WILLR'] = talib.WILLR(self.company_data.high.values, self.company_data.low.values, self.company_data.close.values, timeperiod=14)\n",
        "\n",
        "    def volume_indicators(self):\n",
        "        if company_name is not None:\n",
        "            self.set_company_data(company_name)\n",
        "        # Chaikin A/D Line\n",
        "        self.company_data['AD'] = talib.AD(self.company_data.high.values, self.company_data.low.values, self.company_data.close.values, self.company_data.volume.values)\n",
        "        #Chaikin A/D Oscillator (ADOSC)\n",
        "        self.company_data['ADOSC'] = talib.ADOSC(self.company_data.high.values, self.company_data.low.values, self.company_data.close.values, self.company_data.volume.values)\n",
        "        #On Balance Volume (OBV)\n",
        "        self.company_data['OBV'] = talib.OBV(self.company_data.close.values, self.company_data.volume.values)\n",
        "\n",
        "    def volatility_indicators(self, company_name=None):\n",
        "        if company_name is not None:\n",
        "            self.set_company_data(company_name)\n",
        "        # ATR\n",
        "        self.company_data['ATR'] = talib.ATR(self.company_data.high.values, self.company_data.low.values, self.company_data.close.values)\n",
        "        #NATR\n",
        "        self.company_data['NATR'] = talib.NATR(self.company_data.high.values, self.company_data.low.values, self.company_data.close.values)\n",
        "\n",
        "    def all_metrics(self, company_name):\n",
        "        self.set_company_data(company_name)\n",
        "        self.volume_indicators()\n",
        "        self.volatility_indicators()\n",
        "        self.momentum_indicators()\n",
        "        return self.company_data\n",
        "m=Metrics(data)"
      ],
      "execution_count": 33,
      "outputs": []
    },
    {
      "cell_type": "code",
      "metadata": {
        "cellView": "form",
        "id": "cn-xiPpcyywE"
      },
      "source": [
        "#@markdown def pretty_ploter\n",
        "def pretty_ploter(data, metric):\n",
        "    plt.figure(figsize=(16.1, 10), dpi=80)\n",
        "    plt.plot(data[metric].values)\n",
        "    plt.title(f'{metric} change during time')\n",
        "    plt.xlabel('Timestamp')\n",
        "    plt.ylabel(f'{metric} value')"
      ],
      "execution_count": null,
      "outputs": []
    },
    {
      "cell_type": "code",
      "metadata": {
        "cellView": "form",
        "id": "RZ945QFXvGx1"
      },
      "source": [
        "#@title Calculate an example\n",
        "#@markdown Set the example company\n",
        "company_name = 'EXPD' #@param {type:'string'}\n",
        "metrics = m.all_metrics(company_name)"
      ],
      "execution_count": 36,
      "outputs": []
    },
    {
      "cell_type": "markdown",
      "metadata": {
        "id": "8eMCx6VrkHsn"
      },
      "source": [
        "### Momentum Indicators"
      ]
    },
    {
      "cell_type": "markdown",
      "metadata": {
        "id": "2GqfQJJhkHsn"
      },
      "source": [
        "TA-Lib offers the following choices - feel free to experiment with as many as you like. [Here](https://mrjbq7.github.io/ta-lib/func_groups/momentum_indicators.html) the documentations. "
      ]
    },
    {
      "cell_type": "markdown",
      "metadata": {
        "id": "Y8XASJbtkHsn"
      },
      "source": [
        "|Function|             Name|\n",
        "|:---|:---|\n",
        "|PLUS_DM|              Plus Directional Movement|\n",
        "|MINUS_DM|             Minus Directional Movement|\n",
        "|PLUS_DI|              Plus Directional Indicator|\n",
        "|MINUS_DI|             Minus Directional Indicator|\n",
        "|DX|                   Directional Movement Index|\n",
        "|ADX|                  Average Directional Movement Index|\n",
        "|ADXR|                 Average Directional Movement Index Rating|\n",
        "|APO|                  Absolute Price Oscillator|\n",
        "|PPO|                  Percentage Price Oscillator|\n",
        "|AROON|                Aroon|\n",
        "|AROONOSC|             Aroon Oscillator|\n",
        "|BOP|                  Balance Of Power|\n",
        "|CCI|                  Commodity Channel Index|\n",
        "|CMO|                  Chande Momentum Oscillator|\n",
        "|MACD|                 Moving Average Convergence/Divergence|\n",
        "|MACDEXT|              MACD with controllable MA type|\n",
        "|MACDFIX|              Moving Average Convergence/Divergence Fix 12/26|\n",
        "|MFI|                  Money Flow Index|\n",
        "|MOM|                  Momentum|\n",
        "|RSI|                  Relative Strength Index|\n",
        "|STOCH|                Stochastic|\n",
        "|STOCHF|               Stochastic Fast|\n",
        "|STOCHRSI|             Stochastic Relative Strength Index|\n",
        "|TRIX|                 1-day Rate-Of-Change (ROC) of a Triple Smooth EMA|\n",
        "|ULTOSC|               Ultimate Oscillator|\n",
        "|WILLR|                Williams' %R|"
      ]
    },
    {
      "cell_type": "code",
      "metadata": {
        "id": "wfRbOPNCkHsn"
      },
      "source": [
        "# pprint.pprint(talib.get_function_groups())"
      ],
      "execution_count": 37,
      "outputs": []
    },
    {
      "cell_type": "markdown",
      "metadata": {
        "id": "C_LAApD1WIDR"
      },
      "source": [
        "#### Bollinger Bands"
      ]
    },
    {
      "cell_type": "code",
      "metadata": {
        "id": "HnUDHX47kHsm",
        "colab": {
          "base_uri": "https://localhost:8080/",
          "height": 885
        },
        "cellView": "form",
        "outputId": "eea39310-2da4-4fb0-adac-03b7af8470f9"
      },
      "source": [
        "#@markdown Bollinger Bands graphs\n",
        "fig, axs = plt.subplots(2, figsize=(16.1, 10), dpi=80)\n",
        "fig.suptitle(f'{CPNY_name} stock (2008-2014)')\n",
        "\n",
        "# price\n",
        "axs[0].plot(CPNY.momentum.values, alpha=.7, label='Momentum')\n",
        "axs[0].set_title('Price (Close daily)')\n",
        "axs[0].set_xlabel('Timestamp')\n",
        "axs[0].set_ylabel('Momentum value')\n",
        "\n",
        "\n",
        "# Momentum\n",
        "axs[1].plot(CPNY.close.values, alpha=.7, label='Close')\n",
        "axs[1].plot(CPNY.SMA.values, alpha=.7, label='SMA')\n",
        "axs[1].set_title('Momentum (14 day period)')\n",
        "axs[1].set_xlabel('Timestamp')\n",
        "axs[1].set_ylabel('Close value')\n",
        "\n",
        "# Display\n",
        "plt.legend()\n",
        "plt.show()"
      ],
      "execution_count": 38,
      "outputs": [
        {
          "output_type": "error",
          "ename": "NameError",
          "evalue": "ignored",
          "traceback": [
            "\u001b[0;31m---------------------------------------------------------------------------\u001b[0m",
            "\u001b[0;31mNameError\u001b[0m                                 Traceback (most recent call last)",
            "\u001b[0;32m<ipython-input-38-6b3a248dc9e6>\u001b[0m in \u001b[0;36m<module>\u001b[0;34m()\u001b[0m\n\u001b[1;32m      1\u001b[0m \u001b[0;31m#@markdown Bollinger Bands graphs\u001b[0m\u001b[0;34m\u001b[0m\u001b[0;34m\u001b[0m\u001b[0;34m\u001b[0m\u001b[0m\n\u001b[1;32m      2\u001b[0m \u001b[0mfig\u001b[0m\u001b[0;34m,\u001b[0m \u001b[0maxs\u001b[0m \u001b[0;34m=\u001b[0m \u001b[0mplt\u001b[0m\u001b[0;34m.\u001b[0m\u001b[0msubplots\u001b[0m\u001b[0;34m(\u001b[0m\u001b[0;36m2\u001b[0m\u001b[0;34m,\u001b[0m \u001b[0mfigsize\u001b[0m\u001b[0;34m=\u001b[0m\u001b[0;34m(\u001b[0m\u001b[0;36m16.1\u001b[0m\u001b[0;34m,\u001b[0m \u001b[0;36m10\u001b[0m\u001b[0;34m)\u001b[0m\u001b[0;34m,\u001b[0m \u001b[0mdpi\u001b[0m\u001b[0;34m=\u001b[0m\u001b[0;36m80\u001b[0m\u001b[0;34m)\u001b[0m\u001b[0;34m\u001b[0m\u001b[0;34m\u001b[0m\u001b[0m\n\u001b[0;32m----> 3\u001b[0;31m \u001b[0mfig\u001b[0m\u001b[0;34m.\u001b[0m\u001b[0msuptitle\u001b[0m\u001b[0;34m(\u001b[0m\u001b[0;34mf'{CPNY_name} stock (2008-2014)'\u001b[0m\u001b[0;34m)\u001b[0m\u001b[0;34m\u001b[0m\u001b[0;34m\u001b[0m\u001b[0m\n\u001b[0m\u001b[1;32m      4\u001b[0m \u001b[0;34m\u001b[0m\u001b[0m\n\u001b[1;32m      5\u001b[0m \u001b[0;31m# price\u001b[0m\u001b[0;34m\u001b[0m\u001b[0;34m\u001b[0m\u001b[0;34m\u001b[0m\u001b[0m\n",
            "\u001b[0;31mNameError\u001b[0m: name 'CPNY_name' is not defined"
          ]
        },
        {
          "output_type": "display_data",
          "data": {
            "image/png": "[encoded data removed]",
            "text/plain": [
              "<Figure size 1288x800 with 2 Axes>"
            ]
          },
          "metadata": {
            "tags": []
          }
        }
      ]
    },
    {
      "cell_type": "markdown",
      "metadata": {
        "id": "iW5-6U3PkHsz"
      },
      "source": [
        "|Function|             Name|\n",
        "|:---|:---|\n",
        "|TRANGE|               True Range|\n",
        "|ATR|                  Average True Range|\n",
        "|NATR|                 Normalized Average True Range|"
      ]
    },
    {
      "cell_type": "markdown",
      "metadata": {
        "id": "b38nscJhkHso"
      },
      "source": [
        "#### Average Directional Movement Index (ADX)"
      ]
    },
    {
      "cell_type": "code",
      "metadata": {
        "id": "bdPm1gcAkHso"
      },
      "source": [
        "#Average Directional Movement Index (ADX)\n",
        "#@markdown The ADX combines of two other indicators, namely the positive and directional indicators (PLUS_DI and MINUS_DI), which in turn build on the positive and directional movement (PLUS_DM and MINUS_DM). For additional details see [Wikipdia](https://en.wikipedia.org/wiki/Average_directional_movement_index) and [Investopedia](https://www.investopedia.com/articles/trading/07/adx-trend-indicator.asp).\n",
        "pretty_ploter(CPNY,'ADX')"
      ],
      "execution_count": null,
      "outputs": []
    },
    {
      "cell_type": "markdown",
      "metadata": {
        "id": "WHb95DwckHso"
      },
      "source": [
        "#### Absolute Price Oscillator (APO)"
      ]
    },
    {
      "cell_type": "markdown",
      "metadata": {
        "id": "WBBFg28hkHsp"
      },
      "source": [
        "The absolute Price Oscillator (APO) is computed as the difference between two exponential moving averages (EMA) of price series, expressed as an absolute value. The EMA windows usually contain 26 and 12 data points, respectively."
      ]
    },
    {
      "cell_type": "code",
      "metadata": {
        "id": "oHjZWb14kHsp"
      },
      "source": [
        "# Absolute Price Oscillator (APO)\n",
        "pretty_ploter(CPNY,'APO')"
      ],
      "execution_count": null,
      "outputs": []
    },
    {
      "cell_type": "markdown",
      "metadata": {
        "id": "PzPMiqJIkHsp"
      },
      "source": [
        "#### Percentage Price Oscillator (PPO)"
      ]
    },
    {
      "cell_type": "markdown",
      "metadata": {
        "id": "PbeDUncxkHsp"
      },
      "source": [
        "The Percentage Price Oscillator (APO) is computed as the difference between two exponential moving averages (EMA) of price series, expressed as a percentage value and thus comparable across assets. The EMA windows usually contain 26 and 12 data points, respectively. "
      ]
    },
    {
      "cell_type": "code",
      "metadata": {
        "id": "R7N3Pu6_kHsp"
      },
      "source": [
        "# Percentage Price Oscillator (PPO)\n",
        "pretty_ploter(CPNY,'PPO')"
      ],
      "execution_count": null,
      "outputs": []
    },
    {
      "cell_type": "markdown",
      "metadata": {
        "id": "kBkx-dIkkHsq"
      },
      "source": [
        "#### Aroon Oscillator (APO)"
      ]
    },
    {
      "cell_type": "markdown",
      "metadata": {
        "id": "_sjzXl48kHsq"
      },
      "source": [
        "#### Aroon Up/Down Indicator (PPO)"
      ]
    },
    {
      "cell_type": "markdown",
      "metadata": {
        "id": "2_VdhN7IkHsq"
      },
      "source": [
        "The indicator measures the time between highs and the time between lows over a time period. It computes an AROON_UP and an AROON_DWN indicator as follows:\n",
        "\n",
        "$$\n",
        "\\begin{align*}\n",
        "\\text{AROON_UP}&=\\frac{T-\\text{Periods since T period High}}{T}\\times 100\\\\\n",
        "\\text{AROON_DWN}&=\\frac{T-\\text{Periods since T period Low}}{T}\\times 100\n",
        "\\end{align*}\n",
        "$$"
      ]
    },
    {
      "cell_type": "markdown",
      "metadata": {
        "id": "EohxfpE_kHsq"
      },
      "source": [
        "#### Aroon Oscillator (AROONOSC"
      ]
    },
    {
      "cell_type": "markdown",
      "metadata": {
        "id": "jCRb2T4ykHsq"
      },
      "source": [
        "The Aroon Oscillator is simply the difference between the Aroon Up and Aroon Down indicators."
      ]
    },
    {
      "cell_type": "code",
      "metadata": {
        "id": "Z2D2z1QFkHsr"
      },
      "source": [
        "# Aroon Oscillator (AROONOSC)\n",
        "pretty_ploter(CPNY,'AROONOSC')"
      ],
      "execution_count": null,
      "outputs": []
    },
    {
      "cell_type": "markdown",
      "metadata": {
        "id": "f7WMF-w9kHsr"
      },
      "source": [
        "#### Balance Of Power (BOP)"
      ]
    },
    {
      "cell_type": "markdown",
      "metadata": {
        "id": "BXpqa_DxkHsr"
      },
      "source": [
        "The Balance of Power (BOP) intends to measure the strength of buyers relative to sellers in the market by assessing the ability of each side to drive prices. It is computer as the difference between the close and the open price, divided by the difference between the high and the low price: \n",
        "\n",
        "$$\n",
        "\\text{BOP}_t= \\frac{P_t^\\text{Close}-P_t^\\text{Open}}{P_t^\\text{High}-P_t^\\text{Low}}\n",
        "$$"
      ]
    },
    {
      "cell_type": "code",
      "metadata": {
        "id": "hMUaK3E7kHsr"
      },
      "source": [
        "# Balance of Power (BOP) indicator\n",
        "pretty_ploter(CPNY, 'BOP')"
      ],
      "execution_count": null,
      "outputs": []
    },
    {
      "cell_type": "markdown",
      "metadata": {
        "id": "Jt_FDpVekHsr"
      },
      "source": [
        "#### Commodity Channel Index (CCI)"
      ]
    },
    {
      "cell_type": "markdown",
      "metadata": {
        "id": "XaJdgs4QkHss"
      },
      "source": [
        "The Commodity Channel Index (CCI) measures the difference between the current *typical* price, computed as the average of current low, high and close price and the historical average price. A positive (negative) CCI indicates that price is above (below) the historic average. When CCI is below zero, the price is below the hsitoric average. It is computed as:\n",
        "\n",
        "$$\n",
        "\\begin{align*}\n",
        "\\bar{P_t}&=\\frac{P_t^H+P_t^L+P_t^C}{3}\\\\\n",
        "\\text{CCI}_t & =\\frac{\\bar{P_t} - \\text{SMA}(T)_t}{0.15\\sum_{t=i}^T |\\bar{P_t}-\\text{SMA}(N)_t|/T}\n",
        "\\end{align*}\n",
        "$$"
      ]
    },
    {
      "cell_type": "code",
      "metadata": {
        "id": "pbMP3cBCkHss"
      },
      "source": [
        "# Commodity Channel Index (CCI)\n",
        "pretty_ploter(CPNY, 'CCI')"
      ],
      "execution_count": null,
      "outputs": []
    },
    {
      "cell_type": "markdown",
      "metadata": {
        "id": "gdyUtYFdkHss"
      },
      "source": [
        "#### Moving Average Convergence/Divergence (MACD)"
      ]
    },
    {
      "cell_type": "markdown",
      "metadata": {
        "id": "lrRaKjrhkHss"
      },
      "source": [
        "Moving Average Convergence Divergence (MACD) is a trend-following (lagging) momentum indicator that shows the relationship between two moving averages of a security’s price. It is calculated by subtracting the 26-period Exponential Moving Average (EMA) from the 12-period EMA.\n",
        "\n",
        "The TA-Lib implementation returns the MACD value and its signal line, which is the 9-day EMA of the MACD. In addition, the MACD-Histogram measures the distance between the indicator and its signal line."
      ]
    },
    {
      "cell_type": "code",
      "metadata": {
        "id": "ANHp5hLWkHst"
      },
      "source": [
        "# Moving Average Convergence Divergence (MACD),\n",
        "plt.figure(figsize=(16.1, 10), dpi=80)\n",
        "\n",
        "plt.plot(CPNY.macd_fast, label = 'MACD fast')\n",
        "plt.plot(CPNY.macd_slow, label = 'MACD slow')\n",
        "plt.plot(CPNY.signal_period, label = 'Signal 9 periods')\n",
        "\n",
        "plt.xlabel('time')\n",
        "# Set the y axis label of the current axis.\n",
        "plt.ylabel('MACD score')\n",
        "# Set a title of the current axes.\n",
        "plt.title('Moving average convergence/divergence score')\n",
        "# show a legend on the plot\n",
        "plt.legend()\n",
        "# Display a figure.\n",
        "plt.show()"
      ],
      "execution_count": null,
      "outputs": []
    },
    {
      "cell_type": "markdown",
      "metadata": {
        "id": "_wIB65szkHst"
      },
      "source": [
        "#### Chande Momentum Oscillator (CMO)"
      ]
    },
    {
      "cell_type": "markdown",
      "metadata": {
        "id": "fyRM3J_UkHst"
      },
      "source": [
        "The Chande Momentum Oscillator (CMO) intends to measure momentum on both up and down days. It is calculated as the difference between the sum of gains and losses over at time period T, divided by the sum of all price movement over the same period. It oscillates between +100 and -100."
      ]
    },
    {
      "cell_type": "code",
      "metadata": {
        "id": "tVgw3JU8kHst"
      },
      "source": [
        "# Chande Momentum Oscillator (CMO)\n",
        "pretty_ploter(CPNY,'CMO')"
      ],
      "execution_count": null,
      "outputs": []
    },
    {
      "cell_type": "markdown",
      "metadata": {
        "id": "35NfQTFpkHst"
      },
      "source": [
        "#### Money Flow Index"
      ]
    },
    {
      "cell_type": "markdown",
      "metadata": {
        "id": "gvek51eckHst"
      },
      "source": [
        "The Money Flow Index (MFI) incorporates price and volume information to identify overbought or oversold conditions.  The indicator is typically calculated using 14 periods of data. An MFI reading above 80 is considered overbought and an MFI reading below 20 is considered oversold."
      ]
    },
    {
      "cell_type": "code",
      "metadata": {
        "id": "Pq2nBge2kHsu"
      },
      "source": [
        "# Flow Index (MFI)\n",
        "pretty_ploter(CPNY,'MFI')"
      ],
      "execution_count": null,
      "outputs": []
    },
    {
      "cell_type": "markdown",
      "metadata": {
        "id": "WtAESniQkHsu"
      },
      "source": [
        "#### Relative Strength Index"
      ]
    },
    {
      "cell_type": "markdown",
      "metadata": {
        "id": "Ry2_y5c-kHsu"
      },
      "source": [
        "RSI compares the magnitude of recent price changes across stocks to identify stocks as overbought or oversold. A high RSI (usually above 70) indicates overbought and a low RSI (typically below 30) indicates oversold. It first computes the average price change for a given number (often 14) of prior trading days with rising and falling prices, respectively as $\\text{up}_t$ and $\\text{down}_t$. Then, the RSI is computed as:\n",
        "$$\n",
        "\\text{RSI}_t=100-\\frac{100}{1+\\frac{\\text{up}_t}{\\text{down}_t}}\n",
        "$$\n",
        "\n"
      ]
    },
    {
      "cell_type": "code",
      "metadata": {
        "id": "fZvzE8pSkHsu"
      },
      "source": [
        "# Relative Strength Index (RSI)\n",
        "pretty_ploter(CPNY,'RSI')"
      ],
      "execution_count": null,
      "outputs": []
    },
    {
      "cell_type": "markdown",
      "metadata": {
        "id": "s9QhjqBhkHsu"
      },
      "source": [
        "#### Stochastic RSI (STOCHRSI)"
      ]
    },
    {
      "cell_type": "markdown",
      "metadata": {
        "id": "orYSqcBmkHsu"
      },
      "source": [
        "The Stochastic Relative Strength Index (STOCHRSI) is based on the RSI just described and intends to identify crossovers as well as overbought and oversold conditions. It compares the distance of the current RSI to the lowest RSI over a given time period T to the maximum range of values the RSI has assumed for this period. It is computed as follows:\n",
        "\n",
        "$$\n",
        "\\text{STOCHRSI}_t= \\frac{\\text{RSI}_t-\\text{RSI}_t^L(T)}{\\text{RSI}_t^H(T)-\\text{RSI}_t^L(T)}\n",
        "$$\n",
        "\n",
        "The TA-Lib implementation offers more flexibility than the original \"Unsmoothed stochastic RSI\" version by Chande and Kroll (1993). To calculate the original indicator, keep the `timeperiod` and `fastk_period` equal. \n",
        "\n",
        "The return value `fastk` is the unsmoothed RSI. The `fastd_period` is used to compute a smoothed STOCHRSI, which  is returned as `fastd`. If you do not care about STOCHRSI smoothing, just set `fastd_period` to 1 and ignore the `fastd` output.\n",
        "\n",
        "Reference: \"Stochastic RSI and Dynamic Momentum Index\" by Tushar Chande and Stanley Kroll Stock&Commodities V.11:5 (189-199)\n"
      ]
    },
    {
      "cell_type": "code",
      "metadata": {
        "id": "8GBmaCx4kHsv"
      },
      "source": [
        "#Stochastic RSI (STOCHRSI)\n",
        "plt.figure(figsize=(16.1, 10), dpi=80)\n",
        "plt.plot(CPNY.fastk, alpha=0.50)\n",
        "plt.plot(CPNY.fastd, alpha=0.50)"
      ],
      "execution_count": null,
      "outputs": []
    },
    {
      "cell_type": "markdown",
      "metadata": {
        "id": "G7A3mCQ1kHsv"
      },
      "source": [
        "#### Stochastic (STOCH)"
      ]
    },
    {
      "cell_type": "markdown",
      "metadata": {
        "id": "t686rHjjkHsv"
      },
      "source": [
        "A stochastic oscillator is a momentum indicator comparing a particular closing price of a security to a range of its prices over a certain period of time. Stochastic oscillators are based on the idea that closing prices should confirm the trend."
      ]
    },
    {
      "cell_type": "markdown",
      "metadata": {
        "id": "wSsCrCsVkHsv"
      },
      "source": [
        "For stochastic (STOCH), there are four different lines: `FASTK`, `FASTD`, `SLOWK` and `SLOWD`. The `D` is the signal line usually drawn over its corresponding `K` function.\n",
        "\n",
        "$$\n",
        "\\begin{align*}\n",
        "& K^\\text{Fast}(T_K) & = &\\frac{P_t-P_{T_K}^L}{P_{T_K}^H-P_{T_K}^L}* 100 \\\\\n",
        "& D^\\text{Fast}(T_{\\text{FastD}}) & = & \\text{MA}(T_{\\text{FastD}})[K^\\text{Fast}]\\\\\n",
        "& K^\\text{Slow}(T_{\\text{SlowK}}) & = &\\text{MA}(T_{\\text{SlowK}})[K^\\text{Fast}]\\\\\n",
        "& D^\\text{Slow}(T_{\\text{SlowD}}) & = &\\text{MA}(T_{\\text{SlowD}})[K^\\text{Slow}]\n",
        "\\end{align*}\n",
        "$$\n",
        "  \n",
        "\n",
        "The $P_{T_K}^L$, $P_{T_K}^H$, and $P_{T_K}^L$ are the extreme values among the last $T_K$ period.\n",
        " $K^\\text{Slow}$ and $D^\\text{Fast}$ are equivalent when using the same period. "
      ]
    },
    {
      "cell_type": "code",
      "metadata": {
        "id": "ETnOjC76kHsv"
      },
      "source": [
        "#Stochastic (STOCH)\n",
        "plt.figure(figsize=(16.1, 10), dpi=80)\n",
        "plt.plot(CPNY.slowk, alpha=0.5)\n",
        "plt.plot(CPNY.slowd, alpha=0.5)"
      ],
      "execution_count": null,
      "outputs": []
    },
    {
      "cell_type": "markdown",
      "metadata": {
        "id": "a-sFW83fkHsw"
      },
      "source": [
        "#### Ultimate Oscillator (ULTOSC)"
      ]
    },
    {
      "cell_type": "markdown",
      "metadata": {
        "id": "APO6CbdHkHsw"
      },
      "source": [
        "The Ultimate Oscillator (ULTOSC), developed by Larry Williams, measures the average difference of the current close to the previous lowest price over three time frames (default: 7, 14, and 28) to avoid overreacting to short-term price changes and incorporat short, medium, and long-term market trends. It first computes the buying pressure, $\\text{BP}_t$, then sums it over the three periods $T_1, T_2, T_3$, normalized by the True Range ($\\text{TR}_t$.\n",
        "$$\n",
        "\\begin{align*}\n",
        "\\text{BP}_t & = P_t^\\text{Close}-\\min(P_{t-1}^\\text{Close}, P_t^\\text{Low})\\\\ \n",
        "\\text{TR}_t & = \\max(P_{t-1}^\\text{Close}, P_t^\\text{High})-\\min(P_{t-1}^\\text{Close}, P_t^\\text{Low})\n",
        "\\end{align*}\n",
        "$$\n",
        "\n",
        "ULTOSC is then computed as a weighted average over the three periods as follows:\n",
        "$$\n",
        "\\begin{align*}\n",
        "\\text{Avg}_t(T) & = \\frac{\\sum_{i=0}^{T-1} \\text{BP}_{t-i}}{\\sum_{i=0}^{T-1} \\text{TR}_{t-i}}\\\\\n",
        "\\text{ULTOSC}_t & = 100*\\frac{4\\text{Avg}_t(7) + 2\\text{Avg}_t(14) + \\text{Avg}_t(28)}{4+2+1}\n",
        "\\end{align*}\n",
        "$$"
      ]
    },
    {
      "cell_type": "code",
      "metadata": {
        "id": "gO6JlexWkHsw"
      },
      "source": [
        "#Ultimate Oscillator (ULTOSC)\n",
        "pretty_ploter(CPNY,'ULTOSC')"
      ],
      "execution_count": null,
      "outputs": []
    },
    {
      "cell_type": "markdown",
      "metadata": {
        "id": "aQWUETJVkHsw"
      },
      "source": [
        "#### Williams' %R (WILLR)"
      ]
    },
    {
      "cell_type": "markdown",
      "metadata": {
        "id": "YJ_G5N72kHsw"
      },
      "source": [
        "Williams %R, also known as the Williams Percent Range, is a momentum indicator that moves between 0 and -100 and measures overbought and oversold levels to identify entry and exit points. It is similar to the Stochastic oscillator and compares the current closing price $P_t^\\text{Close}$ to the range of highest ($P_T^\\text{High}$) and lowest ($P_T^\\text{Low}$) prices over the last T periods (typically 14). The indicators is computed as:\n",
        "\n",
        "$$\n",
        "\\text{WILLR}_t = \\frac{P_T^\\text{High}-P_t^\\text{Close}}{P_T^\\text{High}-P_T^\\text{Low}}\n",
        "$$\n"
      ]
    },
    {
      "cell_type": "code",
      "metadata": {
        "id": "d6TW5PNJkHsw"
      },
      "source": [
        "#Williams' %R (WILLR)\n",
        "pretty_ploter(CPNY,'WILLR')"
      ],
      "execution_count": null,
      "outputs": []
    },
    {
      "cell_type": "markdown",
      "metadata": {
        "id": "lQ8-iSGzkHsx"
      },
      "source": [
        "## Volume Indicators"
      ]
    },
    {
      "cell_type": "markdown",
      "metadata": {
        "id": "S-r3ZReXkHsx"
      },
      "source": [
        "|Function|             Name|\n",
        "|:---|:---|\n",
        "|AD|                   Chaikin A/D Line|\n",
        "|ADOSC|                Chaikin A/D Oscillator|\n",
        "|OBV|                  On Balance Volume|"
      ]
    },
    {
      "cell_type": "markdown",
      "metadata": {
        "id": "lJZvwXzEkHsx"
      },
      "source": [
        "#### Chaikin A/D Line"
      ]
    },
    {
      "cell_type": "markdown",
      "metadata": {
        "id": "gWsIUAMpkHsx"
      },
      "source": [
        "The Chaikin Advance/Decline or Accumulation/Distribution Line (AD) is a volume-based indicator designed to measure the cumulative flow of money into and out of an asset. The indicator assumes that the degree of buying or selling pressure can be determined by the location of the close, relative to the high and low for the period. There is buying (sellng) pressure when a stock closes in the upper (lower) half of a period's range. The intention is to signal a change in direction when the indicator diverges from the security price.\n",
        "\n",
        "The Accumulation/Distribution Line is a running total of each period's Money Flow Volume. It is calculated as follows:\n",
        "\n",
        "1. The Money Flow Multiplier (MFI) is the relationship of the close to the high-low range:\n",
        "2. The MFI is multiplied by the period's volume $V_t$ to come up with a Money Flow Volume (MFV). \n",
        "3. A running total of the Money Flow Volume forms the Accumulation Distribution Line:\n",
        "$$\n",
        "\\begin{align*}\n",
        "&\\text{MFI}_t&=\\frac{P_t^\\text{Close}-P_t^\\text{Low}}{P_t^\\text{High}-P_t^\\text{Low}}\\\\\n",
        "&\\text{MFV}_t&=\\text{MFI}_t \\times V_t\\\\\n",
        "&\\text{AD}_t&=\\text{AD}_{t-1}+\\text{MFV}_t\n",
        "\\end{align*}\n",
        "$$"
      ]
    },
    {
      "cell_type": "code",
      "metadata": {
        "id": "Zt1GA4enkHsx",
        "colab": {
          "base_uri": "https://localhost:8080/",
          "height": 189
        },
        "outputId": "b34723c8-970b-43b0-b622-c58d8980024d"
      },
      "source": [
        "# Chaikin A/D Line\n",
        "pretty_ploter(CPNY, 'AD')"
      ],
      "execution_count": 39,
      "outputs": [
        {
          "output_type": "error",
          "ename": "NameError",
          "evalue": "ignored",
          "traceback": [
            "\u001b[0;31m---------------------------------------------------------------------------\u001b[0m",
            "\u001b[0;31mNameError\u001b[0m                                 Traceback (most recent call last)",
            "\u001b[0;32m<ipython-input-39-c259ecb38f97>\u001b[0m in \u001b[0;36m<module>\u001b[0;34m()\u001b[0m\n\u001b[1;32m      1\u001b[0m \u001b[0;31m# Chaikin A/D Line\u001b[0m\u001b[0;34m\u001b[0m\u001b[0;34m\u001b[0m\u001b[0;34m\u001b[0m\u001b[0m\n\u001b[0;32m----> 2\u001b[0;31m \u001b[0mpretty_ploter\u001b[0m\u001b[0;34m(\u001b[0m\u001b[0mCPNY\u001b[0m\u001b[0;34m,\u001b[0m \u001b[0;34m'AD'\u001b[0m\u001b[0;34m)\u001b[0m\u001b[0;34m\u001b[0m\u001b[0;34m\u001b[0m\u001b[0m\n\u001b[0m",
            "\u001b[0;31mNameError\u001b[0m: name 'pretty_ploter' is not defined"
          ]
        }
      ]
    },
    {
      "cell_type": "markdown",
      "metadata": {
        "id": "p9EHOWLpkHsx"
      },
      "source": [
        "#### Chaikin A/D Oscillator (ADOSC)"
      ]
    },
    {
      "cell_type": "markdown",
      "metadata": {
        "id": "g3ZEyZbOkHsy"
      },
      "source": [
        "The Chaikin A/D Oscillator (ADOSC) is the Moving Average Convergence Divergence indicator (MACD) applied to the Chaikin A/D Line. The Chaikin Oscillator intends to predict changes in the Accumulation/Distribution Line.\n",
        "\n",
        "It is computed as the difference between the 3-day exponential moving average and the 10-day exponential moving average of the Accumulation/Distribution Line."
      ]
    },
    {
      "cell_type": "code",
      "metadata": {
        "id": "_orvPvjhkHsy",
        "colab": {
          "base_uri": "https://localhost:8080/",
          "height": 189
        },
        "outputId": "cec9f029-d712-40b5-fe13-127ed9708c0f"
      },
      "source": [
        "#Chaikin A/D Oscillator (ADOSC)\n",
        "pretty_ploter(CPNY, 'ADOSC')"
      ],
      "execution_count": 40,
      "outputs": [
        {
          "output_type": "error",
          "ename": "NameError",
          "evalue": "ignored",
          "traceback": [
            "\u001b[0;31m---------------------------------------------------------------------------\u001b[0m",
            "\u001b[0;31mNameError\u001b[0m                                 Traceback (most recent call last)",
            "\u001b[0;32m<ipython-input-40-2ff1e7279cfc>\u001b[0m in \u001b[0;36m<module>\u001b[0;34m()\u001b[0m\n\u001b[1;32m      1\u001b[0m \u001b[0;31m#Chaikin A/D Oscillator (ADOSC)\u001b[0m\u001b[0;34m\u001b[0m\u001b[0;34m\u001b[0m\u001b[0;34m\u001b[0m\u001b[0m\n\u001b[0;32m----> 2\u001b[0;31m \u001b[0mpretty_ploter\u001b[0m\u001b[0;34m(\u001b[0m\u001b[0mCPNY\u001b[0m\u001b[0;34m,\u001b[0m \u001b[0;34m'ADOSC'\u001b[0m\u001b[0;34m)\u001b[0m\u001b[0;34m\u001b[0m\u001b[0;34m\u001b[0m\u001b[0m\n\u001b[0m",
            "\u001b[0;31mNameError\u001b[0m: name 'pretty_ploter' is not defined"
          ]
        }
      ]
    },
    {
      "cell_type": "markdown",
      "metadata": {
        "id": "8itqbzb9kHsy"
      },
      "source": [
        "#### On Balance Volume (OBV)"
      ]
    },
    {
      "cell_type": "markdown",
      "metadata": {
        "id": "AYIjyC1xkHsy"
      },
      "source": [
        "The On Balance Volume indicator (OBV) is a cumulative momentum indicator that relates volume to price change. It assumes that OBV changes precede price changes because smart money can be seen flowing into the security by a rising OBV. When the public then moves into the security, both the security and OBV will rise.\n",
        "\n",
        "The current OBV is computed by adding (subtracting) the current volume to the last OBV if the security closes higher (lower) than the previous close.\n",
        "\n",
        "$$\n",
        "\\text{OBV}_t = \n",
        "\\begin{cases}\n",
        "\\text{OBV}_{t-1}+V_t & \\text{if }P_t>P_{t-1}\\\\\n",
        "\\text{OBV}_{t-1}-V_t & \\text{if }P_t<P_{t-1}\\\\\n",
        "\\text{OBV}_{t-1} & \\text{otherwise}\n",
        "\\end{cases}\n",
        "$$"
      ]
    },
    {
      "cell_type": "code",
      "metadata": {
        "id": "-siFP5e_kHsy"
      },
      "source": [
        "#On Balance Volume (OBV)\n",
        "pretty_ploter(CPNY, 'OBV')"
      ],
      "execution_count": null,
      "outputs": []
    },
    {
      "cell_type": "markdown",
      "metadata": {
        "id": "I5gZxMAfkHsy"
      },
      "source": [
        "## Volatility Indicators"
      ]
    },
    {
      "cell_type": "markdown",
      "metadata": {
        "id": "m8rhN7QukHsz"
      },
      "source": [
        "### ATR"
      ]
    },
    {
      "cell_type": "markdown",
      "metadata": {
        "id": "oZFGZlS-kHsz"
      },
      "source": [
        "The Average True Range indicator (ATR) shows volatility of the market. It was introduced by Welles Wilder (1978)  and has been used as a component of numerous other indicators since. It aims to anticipate changes in trend such that the higher its value, the higher the probability of a trend change; the lower the indicator’s value, the weaker the current trend.\n",
        "\n",
        "It is computed as the simple moving average for a period T of the True Range (TRANGE), which measures volatility as the absolute value of the largest recent trading range:\n",
        "$$\n",
        "\\text{TRANGE}_t = \\max\\left[P_t^\\text{High} - P_t^\\text{low}, \\left| P_t^\\text{High} - P_{t-1}^\\text{Close}\\right|, \\left| P_t^\\text{low} - P_{t-1}^\\text{Close}\\right|\\right]\n",
        "$$"
      ]
    },
    {
      "cell_type": "code",
      "metadata": {
        "id": "_mTZ1P2lkHsz"
      },
      "source": [
        "# ATR\n",
        "pretty_ploter(CPNY, 'ATR')"
      ],
      "execution_count": null,
      "outputs": []
    },
    {
      "cell_type": "markdown",
      "metadata": {
        "id": "S90TJ9RokHsz"
      },
      "source": [
        "### NATR"
      ]
    },
    {
      "cell_type": "markdown",
      "metadata": {
        "id": "N3lB4D5zkHsz"
      },
      "source": [
        "The Normalized Average True Range (NATR) is a normalized version of the ATR computed as follows:\n",
        "\n",
        "$$\n",
        "\\text{NATR}_t = \\frac{\\text{ATR}_t(T)}{P_t^\\text{Close}} * 100\n",
        "$$\n",
        "\n",
        "Normalization make the ATR function more relevant in the folllowing scenarios:\n",
        "- Long term analysis where the price changes drastically.\n",
        "- Cross-market or cross-security ATR comparison."
      ]
    },
    {
      "cell_type": "code",
      "metadata": {
        "id": "sfP7k7KvkHs0"
      },
      "source": [
        "#NATR\n",
        "pretty_ploter(CPNY, 'NATR')"
      ],
      "execution_count": null,
      "outputs": []
    },
    {
      "cell_type": "markdown",
      "metadata": {
        "id": "3hgLeBCNkHs0"
      },
      "source": [
        "## Rolling Factor Betas"
      ]
    },
    {
      "cell_type": "markdown",
      "metadata": {
        "id": "iHvbcQQRkHs0"
      },
      "source": [
        "# Persist results"
      ]
    },
    {
      "cell_type": "code",
      "metadata": {
        "colab": {
          "base_uri": "https://localhost:8080/",
          "height": 37
        },
        "id": "RUF05lMaq0nr",
        "outputId": "240f2708-fe21-4ebc-ebfd-67511f6e2a03"
      },
      "source": [
        "r=Returns(data)\n",
        "m=Metrics(data)\n",
        "DATA_STORE = Path('..', 'data', 'stock_metrics.h5')\n",
        "store = pd.HDFStore(DATA_STORE)\n",
        "for company_name in progress_bar(set(data.index.get_level_values(0))):\n",
        "    returns = r.all_returns(company_name)\n",
        "    metrics = m.all_metrics(company_name)\n",
        "    store[f'data/{company_name}'] = returns.join(metrics)\n",
        "store.close()"
      ],
      "execution_count": 52,
      "outputs": [
        {
          "output_type": "display_data",
          "data": {
            "text/html": [
              "\n",
              "    <div>\n",
              "        <style>\n",
              "            /* Turns off some styling */\n",
              "            progress {\n",
              "                /* gets rid of default border in Firefox and Opera. */\n",
              "                border: none;\n",
              "                /* Needs to be in here for Safari polyfill so background images work as expected. */\n",
              "                background-size: auto;\n",
              "            }\n",
              "            .progress-bar-interrupted, .progress-bar-interrupted::-webkit-progress-bar {\n",
              "                background: #F44336;\n",
              "            }\n",
              "        </style>\n",
              "      <progress value='1494' class='' max='1494' style='width:300px; height:20px; vertical-align: middle;'></progress>\n",
              "      100.00% [1494/1494 51:43<00:00]\n",
              "    </div>\n",
              "    "
            ],
            "text/plain": [
              "<IPython.core.display.HTML object>"
            ]
          },
          "metadata": {
            "tags": []
          }
        }
      ]
    }
  ]
}